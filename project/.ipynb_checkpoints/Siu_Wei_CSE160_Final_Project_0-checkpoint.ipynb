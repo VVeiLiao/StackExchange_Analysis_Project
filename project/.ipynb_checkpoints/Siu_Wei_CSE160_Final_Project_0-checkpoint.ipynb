{
 "cells": [
  {
   "cell_type": "markdown",
   "metadata": {},
   "source": [
    "### **Chianson Siu, Wei Liao**"
   ]
  },
  {
   "cell_type": "markdown",
   "metadata": {},
   "source": [
    "### <center>Prevalent Interpersonal Issues in 2018</center>"
   ]
  },
  {
   "cell_type": "markdown",
   "metadata": {},
   "source": [
    "**Research Questions**\n"
   ]
  },
  {
   "cell_type": "markdown",
   "metadata": {},
   "source": [
    "1. Maybe we can think about what kind of types of problems people have the most? (occurrence data, not score)\n",
    "Maybe like national international health or mental organizations. Maybe these interpersonal problems are causing stress. Maybe the government can I don't know, see what kind of problems they can deal with."
   ]
  },
  {
   "cell_type": "markdown",
   "metadata": {},
   "source": [
    "2. Uhhh, okay probably uhh, what types of problems are unsolvable? i.e do not have acceptable answers."
   ]
  },
  {
   "cell_type": "markdown",
   "metadata": {},
   "source": [
    "3. Can we detect users that are consistently posting spam?"
   ]
  },
  {
   "cell_type": "markdown",
   "metadata": {},
   "source": [
    "4. Can we scan and flag users that consistently post messages above causing harm to others? Could be useful for police department."
   ]
  },
  {
   "cell_type": "markdown",
   "metadata": {},
   "source": [
    "5. What is the most viewed or highest scored questions? Could be useful for commercialism or designers like HCDE researchers."
   ]
  },
  {
   "cell_type": "markdown",
   "metadata": {},
   "source": [
    "6. Social analysis on what type of user has high reputation (demographics, race, gender, name, age). "
   ]
  },
  {
   "cell_type": "markdown",
   "metadata": {},
   "source": [
    "**Dataset**\n",
    "\n",
    "Our group will be using the Interpersonal Skills data dump from the Stack Exchange, Inc. archive. It can be downloaded here: https://archive.org/download/stackexchange. \n",
    "\n",
    "* interpersonal.meta.stackexchange.com.7z -- 20.9 MB\n",
    "* interpersonal.stackexchange.com.7z -- 138 MB\n",
    "\n",
    "Each site on Stack Exachange comes with two data files; the site's data, and the sites metadata. Both of which are stored as XML files. Each zip contains 8 XML files: badges, comments, post history, post links, posts, tags, users, and votes."
   ]
  },
  {
   "cell_type": "code",
   "execution_count": null,
   "metadata": {},
   "outputs": [],
   "source": []
  }
 ],
 "metadata": {
  "kernelspec": {
   "display_name": "Python 3",
   "language": "python",
   "name": "python3"
  },
  "language_info": {
   "codemirror_mode": {
    "name": "ipython",
    "version": 3
   },
   "file_extension": ".py",
   "mimetype": "text/x-python",
   "name": "python",
   "nbconvert_exporter": "python",
   "pygments_lexer": "ipython3",
   "version": "3.7.2"
  }
 },
 "nbformat": 4,
 "nbformat_minor": 2
}
